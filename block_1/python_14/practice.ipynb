{
 "cells": [
  {
   "cell_type": "code",
   "execution_count": 1,
   "metadata": {},
   "outputs": [],
   "source": [
    "import pandas as pd\n",
    "from IPython import display"
   ]
  },
  {
   "cell_type": "code",
   "execution_count": 12,
   "metadata": {},
   "outputs": [
    {
     "data": {
      "text/html": [
       "<div>\n",
       "<style scoped>\n",
       "    .dataframe tbody tr th:only-of-type {\n",
       "        vertical-align: middle;\n",
       "    }\n",
       "\n",
       "    .dataframe tbody tr th {\n",
       "        vertical-align: top;\n",
       "    }\n",
       "\n",
       "    .dataframe thead th {\n",
       "        text-align: right;\n",
       "    }\n",
       "</style>\n",
       "<table border=\"1\" class=\"dataframe\">\n",
       "  <thead>\n",
       "    <tr style=\"text-align: right;\">\n",
       "      <th></th>\n",
       "      <th>one</th>\n",
       "      <th>two</th>\n",
       "      <th>three</th>\n",
       "      <th>four</th>\n",
       "      <th>five</th>\n",
       "    </tr>\n",
       "  </thead>\n",
       "  <tbody>\n",
       "    <tr>\n",
       "      <th>0</th>\n",
       "      <td>1.331587</td>\n",
       "      <td>0.715279</td>\n",
       "      <td>-1.545400</td>\n",
       "      <td>bar</td>\n",
       "      <td>NaN</td>\n",
       "    </tr>\n",
       "    <tr>\n",
       "      <th>1</th>\n",
       "      <td>NaN</td>\n",
       "      <td>NaN</td>\n",
       "      <td>1.000000</td>\n",
       "      <td>NaN</td>\n",
       "      <td>NaN</td>\n",
       "    </tr>\n",
       "    <tr>\n",
       "      <th>2</th>\n",
       "      <td>-0.008384</td>\n",
       "      <td>0.621336</td>\n",
       "      <td>-0.720086</td>\n",
       "      <td>bar</td>\n",
       "      <td>NaN</td>\n",
       "    </tr>\n",
       "    <tr>\n",
       "      <th>3</th>\n",
       "      <td>1.000000</td>\n",
       "      <td>0.500000</td>\n",
       "      <td>0.500000</td>\n",
       "      <td>NaN</td>\n",
       "      <td>NaN</td>\n",
       "    </tr>\n",
       "    <tr>\n",
       "      <th>4</th>\n",
       "      <td>0.265512</td>\n",
       "      <td>0.108549</td>\n",
       "      <td>0.004291</td>\n",
       "      <td>bar</td>\n",
       "      <td>yes</td>\n",
       "    </tr>\n",
       "  </tbody>\n",
       "</table>\n",
       "</div>"
      ],
      "text/plain": [
       "        one       two     three four five\n",
       "0  1.331587  0.715279 -1.545400  bar  NaN\n",
       "1       NaN       NaN  1.000000  NaN  NaN\n",
       "2 -0.008384  0.621336 -0.720086  bar  NaN\n",
       "3  1.000000  0.500000  0.500000  NaN  NaN\n",
       "4  0.265512  0.108549  0.004291  bar  yes"
      ]
     },
     "execution_count": 12,
     "metadata": {},
     "output_type": "execute_result"
    }
   ],
   "source": [
    "df = pd.read_csv('data/test.csv')\n",
    "df.head()"
   ]
  },
  {
   "cell_type": "code",
   "execution_count": 17,
   "metadata": {},
   "outputs": [
    {
     "name": "stdout",
     "output_type": "stream",
     "text": [
      "        one       two     three  four\n",
      "0  1.331587  0.715279 -1.545400   bar\n",
      "2 -0.008384  0.621336 -0.720086   bar\n",
      "3  1.000000  0.500000  0.500000   bar\n",
      "4  0.265512  0.108549  0.004291   bar\n",
      "5 -0.174600  0.433026  1.203037   bar\n",
      "6  0.241508  0.567744  1.200000  hist\n",
      "7 -0.965066  1.028274  0.228630   bar\n"
     ]
    }
   ],
   "source": [
    "df_res = df.copy()\n",
    "n_col = df_res.shape[0] * 0.5\n",
    "df_res = df_res.dropna(how=any, thresh=n_col, axis=1)\n",
    "n_row = df_res.shape[1]\n",
    "df_res = df_res.dropna(how=any, thresh=n_row-2, axis=0)\n",
    "values = {\n",
    "    'one': df_res['one'].mean(),\n",
    "    'two': df_res['two'].mean(),\n",
    "    'four': df_res['four'].mode()[0]\n",
    "}\n",
    "df_res = df_res.fillna(values)\n",
    "print(df_res)"
   ]
  }
 ],
 "metadata": {
  "interpreter": {
   "hash": "66eda24313fe0cbb341f9fb1612a50d7b8b8a4f194ac097ff3695cd739cb65e8"
  },
  "kernelspec": {
   "display_name": "Python 3.9.7 ('base')",
   "language": "python",
   "name": "python3"
  },
  "language_info": {
   "codemirror_mode": {
    "name": "ipython",
    "version": 3
   },
   "file_extension": ".py",
   "mimetype": "text/x-python",
   "name": "python",
   "nbconvert_exporter": "python",
   "pygments_lexer": "ipython3",
   "version": "3.9.7"
  },
  "orig_nbformat": 4
 },
 "nbformat": 4,
 "nbformat_minor": 2
}
