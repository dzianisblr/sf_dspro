{
 "cells": [
  {
   "cell_type": "code",
   "execution_count": 1,
   "metadata": {},
   "outputs": [],
   "source": [
    "import pandas as pd\n",
    "bike_data = pd.read_csv('data/citibike-tripdata.csv')\n",
    "bike_db = bike_data.copy()"
   ]
  },
  {
   "cell_type": "code",
   "execution_count": 2,
   "metadata": {},
   "outputs": [
    {
     "name": "stdout",
     "output_type": "stream",
     "text": [
      "<class 'pandas.core.frame.DataFrame'>\n",
      "RangeIndex: 300000 entries, 0 to 299999\n",
      "Data columns (total 14 columns):\n",
      " #   Column                   Non-Null Count   Dtype  \n",
      "---  ------                   --------------   -----  \n",
      " 0   starttime                300000 non-null  object \n",
      " 1   stoptime                 300000 non-null  object \n",
      " 2   start station id         299831 non-null  float64\n",
      " 3   start station name       299831 non-null  object \n",
      " 4   start station latitude   300000 non-null  float64\n",
      " 5   start station longitude  300000 non-null  float64\n",
      " 6   end station id           299831 non-null  float64\n",
      " 7   end station name         299831 non-null  object \n",
      " 8   end station latitude     300000 non-null  float64\n",
      " 9   end station longitude    300000 non-null  float64\n",
      " 10  bikeid                   300000 non-null  int64  \n",
      " 11  usertype                 300000 non-null  object \n",
      " 12  birth year               300000 non-null  int64  \n",
      " 13  gender                   300000 non-null  int64  \n",
      "dtypes: float64(6), int64(3), object(5)\n",
      "memory usage: 32.0+ MB\n"
     ]
    }
   ],
   "source": [
    "bike_db.info()"
   ]
  },
  {
   "cell_type": "code",
   "execution_count": 3,
   "metadata": {},
   "outputs": [
    {
     "data": {
      "text/plain": [
       "Subscriber    0.774007\n",
       "Customer      0.225993\n",
       "Name: usertype, dtype: float64"
      ]
     },
     "execution_count": 3,
     "metadata": {},
     "output_type": "execute_result"
    }
   ],
   "source": [
    "bike_db['usertype'].value_counts(normalize=True)"
   ]
  },
  {
   "cell_type": "code",
   "execution_count": 4,
   "metadata": {},
   "outputs": [
    {
     "name": "stdout",
     "output_type": "stream",
     "text": [
      "759 765\n",
      "20\n",
      "Eastern Pkwy & Washington Ave\n",
      "Clinton Ave & Myrtle Ave\n"
     ]
    }
   ],
   "source": [
    "print(bike_db['start station id'].nunique(), bike_db['end station id'].nunique())\n",
    "print(2022 - bike_db['birth year'].max())\n",
    "print(bike_db['start station name'].unique()[-1])\n",
    "print(bike_db['end station name'].unique()[0])"
   ]
  },
  {
   "cell_type": "code",
   "execution_count": 5,
   "metadata": {},
   "outputs": [
    {
     "data": {
      "text/plain": [
       "14"
      ]
     },
     "execution_count": 5,
     "metadata": {},
     "output_type": "execute_result"
    }
   ],
   "source": [
    "#bike_db.drop(['start station id', 'end station id'], axis=1, inplace=True)\n",
    "bike_db.count(axis=1)[0]"
   ]
  },
  {
   "cell_type": "code",
   "execution_count": 6,
   "metadata": {},
   "outputs": [
    {
     "data": {
      "text/plain": [
       "11837"
      ]
     },
     "execution_count": 6,
     "metadata": {},
     "output_type": "execute_result"
    }
   ],
   "source": [
    "bike_db['age'] = 2018 - bike_db['birth year']\n",
    "clients_over_60 = bike_db[bike_db['age']>60].count()[0]\n",
    "clients_over_60"
   ]
  },
  {
   "cell_type": "code",
   "execution_count": 7,
   "metadata": {},
   "outputs": [],
   "source": [
    "bike_db.drop('birth year', axis=1, inplace=True)"
   ]
  },
  {
   "cell_type": "code",
   "execution_count": 8,
   "metadata": {},
   "outputs": [],
   "source": [
    "bike_db['starttime'] = pd.to_datetime(bike_db['starttime'])\n",
    "bike_db['stoptime'] = pd.to_datetime(bike_db['stoptime'])"
   ]
  },
  {
   "cell_type": "code",
   "execution_count": 9,
   "metadata": {},
   "outputs": [
    {
     "name": "stdout",
     "output_type": "stream",
     "text": [
      "<class 'pandas.core.frame.DataFrame'>\n",
      "RangeIndex: 300000 entries, 0 to 299999\n",
      "Data columns (total 14 columns):\n",
      " #   Column                   Non-Null Count   Dtype         \n",
      "---  ------                   --------------   -----         \n",
      " 0   starttime                300000 non-null  datetime64[ns]\n",
      " 1   stoptime                 300000 non-null  datetime64[ns]\n",
      " 2   start station id         299831 non-null  float64       \n",
      " 3   start station name       299831 non-null  object        \n",
      " 4   start station latitude   300000 non-null  float64       \n",
      " 5   start station longitude  300000 non-null  float64       \n",
      " 6   end station id           299831 non-null  float64       \n",
      " 7   end station name         299831 non-null  object        \n",
      " 8   end station latitude     300000 non-null  float64       \n",
      " 9   end station longitude    300000 non-null  float64       \n",
      " 10  bikeid                   300000 non-null  int64         \n",
      " 11  usertype                 300000 non-null  object        \n",
      " 12  gender                   300000 non-null  int64         \n",
      " 13  age                      300000 non-null  int64         \n",
      "dtypes: datetime64[ns](2), float64(6), int64(3), object(3)\n",
      "memory usage: 32.0+ MB\n"
     ]
    }
   ],
   "source": [
    "bike_db.info()"
   ]
  },
  {
   "cell_type": "code",
   "execution_count": 29,
   "metadata": {},
   "outputs": [
    {
     "name": "stdout",
     "output_type": "stream",
     "text": [
      "1126\n",
      "999.9145033333333\n"
     ]
    },
    {
     "data": {
      "text/plain": [
       "1000.0"
      ]
     },
     "execution_count": 29,
     "metadata": {},
     "output_type": "execute_result"
    }
   ],
   "source": [
    "time_in_way = bike_db['stoptime'] - bike_db['starttime']\n",
    "print(time_in_way.mean().seconds)\n",
    "print(time_in_way.dt.seconds.mean())\n",
    "bike_db['trip duration'] = time_in_way.dt.seconds\n",
    "round(bike_db['trip duration'].mean(),0)"
   ]
  },
  {
   "cell_type": "code",
   "execution_count": 11,
   "metadata": {},
   "outputs": [
    {
     "data": {
      "text/plain": [
       "115135"
      ]
     },
     "execution_count": 11,
     "metadata": {},
     "output_type": "execute_result"
    }
   ],
   "source": [
    "bike_db['weekend'] = bike_db['starttime'].apply(lambda x: 0 if x.dayofweek in range(5) else 1)\n",
    "bike_db['weekend'].sum()"
   ]
  },
  {
   "cell_type": "code",
   "execution_count": 26,
   "metadata": {},
   "outputs": [
    {
     "data": {
      "text/plain": [
       "9"
      ]
     },
     "execution_count": 26,
     "metadata": {},
     "output_type": "execute_result"
    }
   ],
   "source": [
    "def get_time_of_day(starttime):\n",
    "        \n",
    "        if starttime.hour in range(0,7):\n",
    "            return 'night'\n",
    "        elif starttime.hour in range(7, 13):\n",
    "            return 'morning'\n",
    "        elif starttime.hour in range(13, 19):\n",
    "            return 'day'\n",
    "        elif starttime.hour in range(19, 24):\n",
    "            return 'evening'\n",
    "\n",
    "bike_db['time_of_day'] = bike_db['starttime'].apply(get_time_of_day)\n",
    "round(bike_db[bike_db['time_of_day']=='day'].shape[0] / bike_db[bike_db['time_of_day']=='night'].shape[0])"
   ]
  },
  {
   "cell_type": "code",
   "execution_count": 28,
   "metadata": {},
   "outputs": [
    {
     "data": {
      "text/plain": [
       "'night'"
      ]
     },
     "execution_count": 28,
     "metadata": {},
     "output_type": "execute_result"
    }
   ],
   "source": [
    "#bike_db['starttime'][0]\n",
    "get_time_of_day(pd.to_datetime('2018-09-01 06:00:05.269000'))"
   ]
  }
 ],
 "metadata": {
  "interpreter": {
   "hash": "5e8ef99ea698e7d7508b61e538567a9676cabfb43aa9814a94bed7d96c90dbbd"
  },
  "kernelspec": {
   "display_name": "Python 3.9.7 ('sf_dspro2')",
   "language": "python",
   "name": "python3"
  },
  "language_info": {
   "codemirror_mode": {
    "name": "ipython",
    "version": 3
   },
   "file_extension": ".py",
   "mimetype": "text/x-python",
   "name": "python",
   "nbconvert_exporter": "python",
   "pygments_lexer": "ipython3",
   "version": "3.9.7"
  },
  "orig_nbformat": 4
 },
 "nbformat": 4,
 "nbformat_minor": 2
}
