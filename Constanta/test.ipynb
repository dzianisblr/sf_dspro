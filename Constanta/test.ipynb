{
 "cells": [
  {
   "cell_type": "code",
   "execution_count": 2,
   "metadata": {},
   "outputs": [
    {
     "name": "stdout",
     "output_type": "stream",
     "text": [
      "<class 'pandas.core.frame.DataFrame'>\n",
      "RangeIndex: 584 entries, 0 to 583\n",
      "Data columns (total 14 columns):\n",
      " #   Column      Non-Null Count  Dtype  \n",
      "---  ------      --------------  -----  \n",
      " 0   Unnamed: 0  584 non-null    int64  \n",
      " 1   ARTICUL     584 non-null    object \n",
      " 2   NAIM        537 non-null    object \n",
      " 3   CENA        584 non-null    float64\n",
      " 4   rb_1        0 non-null      float64\n",
      " 5   rb_2        0 non-null      float64\n",
      " 6   rb_3        0 non-null      float64\n",
      " 7   rb_4        0 non-null      float64\n",
      " 8   rb_5        4 non-null      float64\n",
      " 9   rb_6        0 non-null      float64\n",
      " 10  rb_7        0 non-null      float64\n",
      " 11  mag         584 non-null    int64  \n",
      " 12  lit         0 non-null      float64\n",
      " 13  cena_doll   581 non-null    float64\n",
      "dtypes: float64(10), int64(2), object(2)\n",
      "memory usage: 64.0+ KB\n",
      "None\n"
     ]
    }
   ],
   "source": [
    "import pandas as pd\n",
    "\n",
    "data = pd.read_excel('F:\\SkillFactory\\IDE\\Constanta\\data\\dec.xls')\n",
    "print(data.info())"
   ]
  }
 ],
 "metadata": {
  "interpreter": {
   "hash": "5e8ef99ea698e7d7508b61e538567a9676cabfb43aa9814a94bed7d96c90dbbd"
  },
  "kernelspec": {
   "display_name": "Python 3.9.7 ('sf_dspro2')",
   "language": "python",
   "name": "python3"
  },
  "language_info": {
   "codemirror_mode": {
    "name": "ipython",
    "version": 3
   },
   "file_extension": ".py",
   "mimetype": "text/x-python",
   "name": "python",
   "nbconvert_exporter": "python",
   "pygments_lexer": "ipython3",
   "version": "3.9.7"
  },
  "orig_nbformat": 4
 },
 "nbformat": 4,
 "nbformat_minor": 2
}
