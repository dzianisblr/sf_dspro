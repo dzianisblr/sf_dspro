{
 "cells": [
  {
   "cell_type": "code",
   "execution_count": 24,
   "metadata": {},
   "outputs": [
    {
     "name": "stdout",
     "output_type": "stream",
     "text": [
      "0.45\n"
     ]
    }
   ],
   "source": [
    "import numpy as np\n",
    "\n",
    "arr, step = np.linspace(-6, 21, 60, endpoint=False, retstep=True)\n",
    "print(round(step, 2))"
   ]
  }
 ],
 "metadata": {
  "interpreter": {
   "hash": "5e8ef99ea698e7d7508b61e538567a9676cabfb43aa9814a94bed7d96c90dbbd"
  },
  "kernelspec": {
   "display_name": "Python 3.9.7 64-bit ('sf_dspro2': conda)",
   "language": "python",
   "name": "python3"
  },
  "language_info": {
   "codemirror_mode": {
    "name": "ipython",
    "version": 3
   },
   "file_extension": ".py",
   "mimetype": "text/x-python",
   "name": "python",
   "nbconvert_exporter": "python",
   "pygments_lexer": "ipython3",
   "version": "3.9.7"
  },
  "orig_nbformat": 4
 },
 "nbformat": 4,
 "nbformat_minor": 2
}
