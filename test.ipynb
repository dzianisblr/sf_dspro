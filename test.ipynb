{
 "cells": [
  {
   "cell_type": "code",
   "execution_count": 1,
   "metadata": {},
   "outputs": [
    {
     "name": "stdout",
     "output_type": "stream",
     "text": [
      "                   City Colors Reported Shape Reported State             Time\n",
      "0                Ithaca             NaN       TRIANGLE    NY   6/1/1930 22:00\n",
      "1           Willingboro             NaN          OTHER    NJ  6/30/1930 20:00\n",
      "2               Holyoke             NaN           OVAL    CO  2/15/1931 14:00\n",
      "3               Abilene             NaN           DISK    KS   6/1/1931 13:00\n",
      "4  New York Worlds Fair             NaN          LIGHT    NY  4/18/1933 19:00\n",
      "<bound method DataFrame.info of                        City Colors Reported Shape Reported State  \\\n",
      "0                    Ithaca             NaN       TRIANGLE    NY   \n",
      "1               Willingboro             NaN          OTHER    NJ   \n",
      "2                   Holyoke             NaN           OVAL    CO   \n",
      "3                   Abilene             NaN           DISK    KS   \n",
      "4      New York Worlds Fair             NaN          LIGHT    NY   \n",
      "...                     ...             ...            ...   ...   \n",
      "18236            Grant Park             NaN       TRIANGLE    IL   \n",
      "18237           Spirit Lake             NaN           DISK    IA   \n",
      "18238           Eagle River             NaN            NaN    WI   \n",
      "18239           Eagle River             RED          LIGHT    WI   \n",
      "18240                  Ybor             NaN           OVAL    FL   \n",
      "\n",
      "                   Time  \n",
      "0        6/1/1930 22:00  \n",
      "1       6/30/1930 20:00  \n",
      "2       2/15/1931 14:00  \n",
      "3        6/1/1931 13:00  \n",
      "4       4/18/1933 19:00  \n",
      "...                 ...  \n",
      "18236  12/31/2000 23:00  \n",
      "18237  12/31/2000 23:00  \n",
      "18238  12/31/2000 23:45  \n",
      "18239  12/31/2000 23:45  \n",
      "18240  12/31/2000 23:59  \n",
      "\n",
      "[18241 rows x 5 columns]>\n"
     ]
    }
   ],
   "source": [
    "import pandas as pd\n",
    "\n",
    "ufo_db = pd.read_csv('https://raw.githubusercontent.com/justmarkham/pandas-videos/master/data/ufo.csv')\n",
    "print(ufo_db.head())\n",
    "print(ufo_db.info)"
   ]
  },
  {
   "cell_type": "code",
   "execution_count": 9,
   "metadata": {},
   "outputs": [
    {
     "name": "stdout",
     "output_type": "stream",
     "text": [
      "36\n"
     ]
    }
   ],
   "source": [
    "import pandas as pd\n",
    "\n",
    "def get_experience(arg):\n",
    "\n",
    "    list_data = arg.split()\n",
    "    exp_in_month = 0\n",
    "    \n",
    "    if len(list_data)>4:\n",
    "        exp_in_month = int(list_data[2])*12 + int(list_data[4])\n",
    "    else:\n",
    "        if list_data[3][0] == 'м':\n",
    "            exp_in_month = int(list_data[2])\n",
    "        else:\n",
    "            exp_in_month = int(list_data[2])*12\n",
    "    \n",
    "    return exp_in_month\n",
    "\n",
    "print(get_experience('Опыт работы 3 года'))"
   ]
  }
 ],
 "metadata": {
  "interpreter": {
   "hash": "5e8ef99ea698e7d7508b61e538567a9676cabfb43aa9814a94bed7d96c90dbbd"
  },
  "kernelspec": {
   "display_name": "Python 3.9.7 64-bit ('sf_dspro2': conda)",
   "language": "python",
   "name": "python3"
  },
  "language_info": {
   "codemirror_mode": {
    "name": "ipython",
    "version": 3
   },
   "file_extension": ".py",
   "mimetype": "text/x-python",
   "name": "python",
   "nbconvert_exporter": "python",
   "pygments_lexer": "ipython3",
   "version": "3.9.7"
  },
  "orig_nbformat": 4
 },
 "nbformat": 4,
 "nbformat_minor": 2
}
